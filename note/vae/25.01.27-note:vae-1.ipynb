{
 "cells": [
  {
   "cell_type": "code",
   "execution_count": 1,
   "metadata": {},
   "outputs": [],
   "source": [
    "! cd ~/loutrebleu/menta/stroker"
   ]
  },
  {
   "cell_type": "code",
   "execution_count": 28,
   "metadata": {},
   "outputs": [],
   "source": [
    "import time\n",
    "import numpy as np\n",
    "import torch\n",
    "import torch.nn as nn\n",
    "import torch.optim as toptim\n",
    "import torch.utils as tutils\n",
    "import torchvision.datasets as tdatasets\n",
    "import torchvision.transforms as ttransforms\n",
    "import matplotlib.pyplot as plt\n",
    "\n",
    "from collections import namedtuple\n",
    "from IPython.display import clear_output"
   ]
  },
  {
   "cell_type": "markdown",
   "metadata": {},
   "source": [
    "## Parameters"
   ]
  },
  {
   "cell_type": "code",
   "execution_count": 3,
   "metadata": {},
   "outputs": [],
   "source": [
    "image_path = \"../images/marker/dev1\"\n",
    "batch_size = 32\n",
    "crop_size = [128, 128]\n",
    "resize_to = [64, 64]\n",
    "# clip_size = [112, 112]  # 112=2^4*7  248=2^3*31"
   ]
  },
  {
   "cell_type": "markdown",
   "metadata": {},
   "source": [
    "## Trial loading"
   ]
  },
  {
   "cell_type": "code",
   "execution_count": 126,
   "metadata": {},
   "outputs": [],
   "source": [
    "transform = ttransforms.Compose([\n",
    "    ttransforms.ToTensor()\n",
    "])"
   ]
  },
  {
   "cell_type": "code",
   "execution_count": 127,
   "metadata": {},
   "outputs": [],
   "source": [
    "dataset = tdatasets.ImageFolder(image_path, transform)\n"
   ]
  },
  {
   "cell_type": "code",
   "execution_count": 128,
   "metadata": {},
   "outputs": [],
   "source": [
    "loader = tutils.data.DataLoader(dataset, batch_size=1, shuffle=False)\n"
   ]
  },
  {
   "cell_type": "code",
   "execution_count": 129,
   "metadata": {},
   "outputs": [
    {
     "name": "stdout",
     "output_type": "stream",
     "text": [
      "size-max: [1596  490]\n",
      "size-min: [1181  248]\n"
     ]
    }
   ],
   "source": [
    "sizes = np.vstack([\n",
    "    [images.shape[2], images.shape[3]]\n",
    "    for images, _ in loader\n",
    "])\n",
    "print(\"size-max:\", sizes.max(axis=0))\n",
    "print(\"size-min:\", sizes.min(axis=0))\n"
   ]
  },
  {
   "cell_type": "markdown",
   "metadata": {},
   "source": [
    "## Loader"
   ]
  },
  {
   "cell_type": "code",
   "execution_count": 4,
   "metadata": {},
   "outputs": [],
   "source": [
    "transform = ttransforms.Compose([\n",
    "    ttransforms.RandomCrop(crop_size),\n",
    "    ttransforms.Resize(resize_to),\n",
    "    ttransforms.Grayscale(),\n",
    "    ttransforms.ToTensor()\n",
    "])\n"
   ]
  },
  {
   "cell_type": "code",
   "execution_count": 5,
   "metadata": {},
   "outputs": [],
   "source": [
    "dataset = tdatasets.ImageFolder(image_path, transform)\n",
    "loader = tutils.data.DataLoader(tdatasets.ImageFolder(image_path, transform), batch_size=1, shuffle=False)\n"
   ]
  },
  {
   "cell_type": "code",
   "execution_count": 6,
   "metadata": {},
   "outputs": [
    {
     "name": "stdout",
     "output_type": "stream",
     "text": [
      "size-max: [64 64]\n",
      "size-min: [64 64]\n"
     ]
    }
   ],
   "source": [
    "sizes = np.vstack([\n",
    "    [images.shape[2], images.shape[3]]\n",
    "    for images, _ in loader\n",
    "])\n",
    "print(\"size-max:\", sizes.max(axis=0))\n",
    "print(\"size-min:\", sizes.min(axis=0))\n"
   ]
  },
  {
   "cell_type": "markdown",
   "metadata": {},
   "source": [
    "## Build Network"
   ]
  },
  {
   "cell_type": "code",
   "execution_count": 69,
   "metadata": {},
   "outputs": [
    {
     "name": "stdout",
     "output_type": "stream",
     "text": [
      "torch.Size([1, 1, 112, 112])\n",
      "torch.Size([1, 16, 56, 56])\n"
     ]
    }
   ],
   "source": [
    "class ConvBlock(nn.Module):\n",
    "\n",
    "    def __init__(self, in_channel: int, out_channel: int):\n",
    "        super().__init__()\n",
    "        self.cv1 = nn.Conv2d(in_channel, out_channel, kernel_size=3, stride=2, padding=1)\n",
    "        self.bn1 = nn.BatchNorm2d(out_channel)\n",
    "        self.rl1 = nn.ReLU()\n",
    "        self.cv2 = nn.Conv2d(out_channel, out_channel, kernel_size=3, stride=1, padding=1)\n",
    "        self.bn2 = nn.BatchNorm2d(out_channel)\n",
    "        self.cvs = nn.Conv2d(in_channel, out_channel, kernel_size=1, stride=2,)\n",
    "        self.rl2 = nn.ReLU()\n",
    "    \n",
    "    def forward(self, x):\n",
    "        y = self.cv1(x)\n",
    "        y = self.bn1(y)\n",
    "        y = self.rl1(y)\n",
    "        y = self.cv2(y)\n",
    "        y = self.bn2(y)\n",
    "        z = self.cvs(x)\n",
    "        x = self.rl2(y + z)\n",
    "        return x\n",
    "\n",
    "cb1 = ConvBlock(1, 16)\n",
    "# cb2 = ConvBlock(16, 16)\n",
    "for images, labels in loader:\n",
    "    print(images.shape)\n",
    "    out = cb1(images)\n",
    "    print(out.shape)\n",
    "    break\n"
   ]
  },
  {
   "cell_type": "code",
   "execution_count": 70,
   "metadata": {},
   "outputs": [
    {
     "name": "stdout",
     "output_type": "stream",
     "text": [
      "torch.Size([1, 1, 112, 112])\n",
      "torch.Size([1, 16, 56, 56])\n"
     ]
    }
   ],
   "source": [
    "class IdentityBlock(nn.Module):\n",
    "\n",
    "    def __init__(self, in_channel: int):\n",
    "        super().__init__()\n",
    "        self.cv1 = nn.Conv2d(in_channel, in_channel, kernel_size=3, stride=1, padding=1)\n",
    "        self.bn1 = nn.BatchNorm2d(in_channel)\n",
    "        self.rl1 = nn.ReLU()\n",
    "        self.cv2 = nn.Conv2d(in_channel, in_channel, kernel_size=3, stride=1, padding=1)\n",
    "        self.bn2 = nn.BatchNorm2d(in_channel)\n",
    "        self.rl2 = nn.ReLU()\n",
    "    \n",
    "    def forward(self, x):\n",
    "        y = self.cv1(x)\n",
    "        y = self.bn1(y)\n",
    "        y = self.rl1(y)\n",
    "        y = self.cv2(y)\n",
    "        y = self.bn2(y)\n",
    "        out = self.rl2(y + x)\n",
    "        return out\n",
    "    \n",
    "\n",
    "cb1 = ConvBlock(1, 16)\n",
    "cb2 = IdentityBlock(16)\n",
    "for images, labels in loader:\n",
    "    print(images.shape)\n",
    "    feat = cb1(images)\n",
    "    out = cb2(feat)\n",
    "    print(out.shape)\n",
    "    break\n"
   ]
  },
  {
   "cell_type": "markdown",
   "metadata": {},
   "source": [
    "### ResNet18\n",
    "Not Adapted here"
   ]
  },
  {
   "cell_type": "code",
   "execution_count": 83,
   "metadata": {},
   "outputs": [
    {
     "name": "stdout",
     "output_type": "stream",
     "text": [
      "input.shape torch.Size([1, 1, 112, 112])\n",
      "in.shape: torch.Size([1, 1, 112, 112])\n",
      "x0.shape: torch.Size([1, 32, 28, 28])\n",
      "x1.shape: torch.Size([1, 64, 14, 14])\n",
      "x2.shape: torch.Size([1, 128, 7, 7])\n",
      "x3.shape: torch.Size([1, 256, 4, 4])\n",
      "x4.shape: torch.Size([1, 512, 2, 2])\n",
      "x5.shape torch.Size([1, 512, 1, 1])\n"
     ]
    }
   ],
   "source": [
    "class Encoder(nn.Module):\n",
    "\n",
    "    def __init__(self, in_channel, first_channel=16) -> None:\n",
    "        super().__init__()\n",
    "\n",
    "        chs = first_channel * np.asarray([1, 2, 4, 8, 16])\n",
    "\n",
    "        self.cv0 = nn.Conv2d(in_channel, chs[0], kernel_size=7, stride=2, padding=3)\n",
    "        self.bn0 = nn.BatchNorm2d(chs[0])\n",
    "        self.rl0 = nn.ReLU()\n",
    "        self.mp0 = nn.MaxPool2d(2)\n",
    "\n",
    "        self.l11 = ConvBlock(chs[0], chs[1])\n",
    "        self.l12 = IdentityBlock(chs[1])\n",
    "\n",
    "        self.l21 = ConvBlock(chs[1], chs[2])\n",
    "        self.l22 = IdentityBlock(chs[2])\n",
    "\n",
    "        self.l31 = ConvBlock(chs[2], chs[3])\n",
    "        self.l32 = IdentityBlock(chs[3])\n",
    "\n",
    "        self.l41 = ConvBlock(chs[3], chs[4])\n",
    "        self.l42 = IdentityBlock(chs[4])\n",
    "        \n",
    "        self.ap5 = nn.AdaptiveAvgPool2d(1)\n",
    "    \n",
    "    def forward(self, x):\n",
    "        print(\"input.shape\", x.shape)\n",
    "        x0 = self.cv0(x)\n",
    "        x0 = self.bn0(x0)\n",
    "        x0 = self.rl0(x0)\n",
    "        x0 = self.mp0(x0)\n",
    "\n",
    "        x1 = self.l11(x0)\n",
    "        x1 = self.l12(x1)\n",
    "\n",
    "        x2 = self.l21(x1)\n",
    "        x2 = self.l22(x2)\n",
    "\n",
    "        x3 = self.l31(x2)\n",
    "        x3 = self.l32(x3)\n",
    "\n",
    "        x4 = self.l41(x3)\n",
    "        x4 = self.l42(x4)\n",
    "\n",
    "        x5 = self.ap5(x4)\n",
    "\n",
    "        print(\"in.shape:\", x.shape)\n",
    "        print(\"x0.shape:\", x0.shape)\n",
    "        print(\"x1.shape:\", x1.shape)\n",
    "        print(\"x2.shape:\", x2.shape)\n",
    "        print(\"x3.shape:\", x3.shape)\n",
    "        print(\"x4.shape:\", x4.shape)\n",
    "        print(\"x5.shape\", x5.shape)\n",
    "\n",
    "        return x5\n",
    "\n",
    "enc = Encoder(1, first_channel=32)\n",
    "for image, label in loader:\n",
    "    enc(image)\n",
    "    break\n",
    "del enc\n"
   ]
  },
  {
   "cell_type": "code",
   "execution_count": 111,
   "metadata": {},
   "outputs": [],
   "source": [
    "class BaseConv(nn.Module):\n",
    "\n",
    "    def __init__(self, in_channel, stride=1) -> None:\n",
    "        super().__init__()\n",
    "        out_channel = in_channel * stride\n",
    "        self.layer1 = self._make_layer(in_channel, stride=stride)\n",
    "        self.layer2 = self._make_layer(out_channel)\n",
    "    \n",
    "    @staticmethod\n",
    "    def _make_layer(in_channel, stride=1, kernel_size=3):\n",
    "        out_channel = in_channel * stride\n",
    "        padding = kernel_size // 2\n",
    "        return nn.Sequential(\n",
    "            nn.Conv2d(in_channel, out_channel, kernel_size=kernel_size, stride=stride, padding=padding),\n",
    "            nn.BatchNorm2d(out_channel),\n",
    "            nn.ReLU()\n",
    "        )\n",
    "\n",
    "    def forward(self, x):\n",
    "        x1 = self.layer1(x)\n",
    "        x2 = self.layer2(x1)\n",
    "        return x2\n"
   ]
  },
  {
   "cell_type": "code",
   "execution_count": 152,
   "metadata": {},
   "outputs": [
    {
     "name": "stdout",
     "output_type": "stream",
     "text": [
      "(tensor([[ 0.6077,  0.6504,  0.4781,  0.2064,  0.6221,  0.7036,  0.3312,  0.0489,\n",
      "          0.7043,  0.6507,  0.8411,  1.0515,  0.8484,  1.0058,  0.5329,  0.1488,\n",
      "          0.1282,  0.4847,  0.5438,  0.7531,  0.0819,  0.0742,  0.5291,  0.1807,\n",
      "          0.4907,  0.5370,  0.9274,  0.0798,  0.4954,  0.6677,  0.8888,  0.2639,\n",
      "          0.7793,  0.5099,  0.3169,  0.4428, -0.0791,  0.6734,  0.2242,  0.7376,\n",
      "         -0.3384,  0.8328,  0.4628,  0.7128,  0.2091,  0.9905,  0.8054,  1.1766,\n",
      "          0.5125,  0.1294]], grad_fn=<AddBackward0>), tensor([[ 0.0562, -0.1867, -0.0660,  0.1744, -0.3324, -0.0648, -0.1999, -0.3978,\n",
      "          0.3662,  0.0643, -0.0846,  0.2893,  0.2958,  0.1208, -0.1363,  0.0343,\n",
      "         -0.0319, -0.1832,  0.0349, -0.0800,  0.0572, -0.0057,  0.4039, -0.2531,\n",
      "         -0.0757, -0.1809,  0.2421, -0.1815, -0.3462,  0.2613, -0.1179, -0.3781,\n",
      "         -0.1267, -0.2155, -0.1811, -0.2121, -0.4376, -0.3110, -0.0888,  0.4402,\n",
      "         -0.4132, -0.0545, -0.3634,  0.0948, -0.3221,  0.1994, -0.0120,  0.2933,\n",
      "         -0.0630,  0.0848]], grad_fn=<AddmmBackward0>), tensor([[ 0.0645,  0.0384, -0.1585, -0.1328, -0.0022,  0.0988,  0.1056, -0.0013,\n",
      "         -0.0862, -0.3276, -0.1239,  0.0736, -0.0316,  0.1993, -0.1947, -0.2936,\n",
      "         -0.1143, -0.1094,  0.0285,  0.0331, -0.1079,  0.1256,  0.1116, -0.2016,\n",
      "          0.1209,  0.0248, -0.1550,  0.2097, -0.0384, -0.1580,  0.2156,  0.0443,\n",
      "          0.2442, -0.1990, -0.4288, -0.1030, -0.2556,  0.1536,  0.2634,  0.3285,\n",
      "         -0.3634,  0.0437,  0.1454, -0.0571,  0.2091,  0.3500, -0.3388, -0.0635,\n",
      "          0.1112, -0.2403]], grad_fn=<AddmmBackward0>))\n"
     ]
    }
   ],
   "source": [
    "class EncoderRes(nn.Module):\n",
    "\n",
    "    def __init__(self, image_size, in_channel, num_cv_layer=4, first_channel=None):\n",
    "        super().__init__()\n",
    "\n",
    "        self.image_size = image_size if not hasattr(image_size, \"__len__\") else image_size[0]\n",
    "        self.base_channel = in_channel\n",
    "        self.num_cv_layer = num_cv_layer\n",
    "\n",
    "        if first_channel is not None:\n",
    "            self.base_channel = first_channel\n",
    "        ch = self.base_channel * np.power(2, np.arange(num_cv_layer))\n",
    "\n",
    "        comp_ratio = 2 ** len(ch)\n",
    "        cv_out_size = int(image_size / comp_ratio) ** 2 * ch[-1] * 2\n",
    "\n",
    "        self.layer1 = nn.Sequential(\n",
    "            nn.Conv2d(in_channel, ch[0], kernel_size=3, stride=1, padding=1),\n",
    "            nn.BatchNorm2d(ch[0]),\n",
    "            nn.ReLU()\n",
    "        )\n",
    "        self.layer2 = BaseConv(ch[0], stride=2)\n",
    "        self.layer3 = BaseConv(ch[1], stride=2)\n",
    "        self.layer4 = BaseConv(ch[2], stride=2)\n",
    "        self.layer5 = BaseConv(ch[3], stride=2)\n",
    "        self.layer6 = nn.Sequential(\n",
    "            nn.Flatten(),\n",
    "            nn.Linear(cv_out_size, 100),\n",
    "            nn.ReLU()\n",
    "        )\n",
    "        self.layer_ave = nn.Linear(100, 50)\n",
    "        self.layer_dev = nn.Linear(100, 50)\n",
    "    \n",
    "    def forward(self, x):\n",
    "        x1 = self.layer1(x)\n",
    "        x2 = self.layer2(x1)\n",
    "        x3 = self.layer3(x2)\n",
    "        x4 = self.layer4(x3)\n",
    "        x5 = self.layer5(x4)\n",
    "        x6 = self.layer6(x5)\n",
    "        \n",
    "        ave = self.layer_ave(x6)\n",
    "        log_dev = self.layer_dev(x6)\n",
    "\n",
    "        ep = torch.rand_like(ave)\n",
    "        ft = ave + torch.exp(log_dev / 2) * ep\n",
    "\n",
    "        return ft, ave, log_dev\n",
    "\n",
    "\n",
    "enc = EncoderRes(resize_to[0], 1, first_channel=1)\n",
    "for image, label in loader:\n",
    "    ret = enc(image)\n",
    "    print(ret)\n",
    "    break\n"
   ]
  },
  {
   "cell_type": "markdown",
   "metadata": {},
   "source": [
    "### Adapted Encoder/Decoder"
   ]
  },
  {
   "cell_type": "code",
   "execution_count": 9,
   "metadata": {},
   "outputs": [],
   "source": [
    "class Encoder(nn.Module):\n",
    "\n",
    "    def __init__(self, image_shape, num_layer, base_channel, latent_size=50):\n",
    "        super().__init__()\n",
    "        self.image_shape = np.asarray(image_shape)\n",
    "        self.num_layer = num_layer\n",
    "        ch = np.power(2, np.arange(num_layer)) * base_channel\n",
    "        ch = np.insert(ch, 0, image_shape[0])\n",
    "        self.ch = ch\n",
    "\n",
    "        self.shape_after_conv = shape_after_conv = (self.image_shape[1:] / (2 ** num_layer) / 2)\n",
    "        self.size_after_conv = size_after_conv = int(shape_after_conv[0] * shape_after_conv[1] * ch[-1])\n",
    "        self.latent_size = latent_size\n",
    "\n",
    "        self.convs = nn.Sequential(*[\n",
    "            self._make_layer(ich, och)\n",
    "            for ich, och in zip(ch[:-1], ch[1:])\n",
    "        ])\n",
    "\n",
    "        self.layer_flt = nn.Flatten()\n",
    "        \n",
    "        self.layer_ave = nn.Sequential(\n",
    "            nn.Linear(size_after_conv, 100),\n",
    "            nn.ReLU(),\n",
    "            nn.Linear(100, latent_size)\n",
    "        )\n",
    "        self.layer_dev = nn.Sequential(\n",
    "            nn.Linear(size_after_conv, 100),\n",
    "            nn.ReLU(),\n",
    "            nn.Linear(100, latent_size)\n",
    "        )\n",
    "    \n",
    "    def _make_layer(self, in_ch, out_ch=None):\n",
    "        out_ch = 2 * in_ch if out_ch is None else out_ch\n",
    "        return nn.Sequential(\n",
    "            nn.Conv2d(in_ch, out_ch, kernel_size=3, stride=2, padding=1),\n",
    "            nn.BatchNorm2d(out_ch),\n",
    "            nn.ReLU(),\n",
    "        )\n",
    "    \n",
    "    def forward(self, x):\n",
    "        cvx = self.convs(x)\n",
    "        cvf = self.layer_flt(cvx)\n",
    "        \n",
    "        mean = self.layer_ave(cvf)\n",
    "        log_dev = self.layer_dev(cvf)\n",
    "\n",
    "        eps = torch.rand_like(mean)\n",
    "        feat = mean + torch.exp(log_dev / 2) * eps\n",
    "        return feat, mean, log_dev\n",
    "\n"
   ]
  },
  {
   "cell_type": "code",
   "execution_count": 10,
   "metadata": {},
   "outputs": [
    {
     "name": "stdout",
     "output_type": "stream",
     "text": [
      "[32 16  8  4  4]\n",
      "shape_resize_to: [32  4  4]\n",
      "image.shape: torch.Size([1, 1, 64, 64])\n"
     ]
    }
   ],
   "source": [
    "class Decoder(nn.Module):\n",
    "\n",
    "    def __init__(self, encoder) -> None:\n",
    "        super().__init__()\n",
    "        ch = encoder.ch[::-1]\n",
    "        ch[-1] = ch[-2]\n",
    "        self.ch = ch\n",
    "\n",
    "        self.shape_resize_to = np.asarray([ch[0], *encoder.shape_after_conv]).astype(int)\n",
    "        print(ch)\n",
    "        print(\"shape_resize_to:\", self.shape_resize_to)\n",
    "\n",
    "        self.layer_latent = nn.Sequential(\n",
    "            nn.Linear(encoder.latent_size, 100),\n",
    "            nn.ReLU(),\n",
    "            nn.Linear(100, encoder.size_after_conv),\n",
    "            nn.ReLU()\n",
    "        )\n",
    "        self.convs = nn.Sequential(*[\n",
    "            self._make_layer(ich, och)\n",
    "            for ich, och in zip(ch[:-1], ch[1:])\n",
    "        ])\n",
    "        self.layer_recons = nn.Sequential(\n",
    "            nn.Conv2d(ch[-1], encoder.image_shape[0], kernel_size=3, stride=1, padding=1),\n",
    "            nn.Sigmoid()\n",
    "        )\n",
    "\n",
    "    def _make_layer(self, in_ch, out_ch=None):\n",
    "        if out_ch is None:\n",
    "            out_ch = in_ch // 2\n",
    "        return nn.Sequential(\n",
    "            nn.Upsample(scale_factor=2),\n",
    "            nn.Conv2d(in_ch, out_ch, kernel_size=3, stride=1, padding=1),\n",
    "            nn.BatchNorm2d(out_ch),\n",
    "            nn.ReLU(),\n",
    "        )\n",
    "    \n",
    "    def forward(self, x):\n",
    "        feat = self.layer_latent(x)\n",
    "        feat = feat.view(x.shape[0], *self.shape_resize_to)\n",
    "        \n",
    "        xcv = self.convs(feat)\n",
    "        recons = self.layer_recons(xcv)\n",
    "\n",
    "        return recons\n",
    "    \n",
    "\n",
    "\n",
    "image_shape = [1, 128, 128]\n",
    "num_layer = 4\n",
    "base_channel = 4\n",
    "enc = Encoder(image_shape, num_layer, base_channel)\n",
    "dec = Decoder(enc)\n",
    "for image, label in loader:\n",
    "    print(\"image.shape:\", image.shape)\n",
    "    latent, _, _ = enc(image)\n",
    "    recons = dec(latent)\n",
    "    \n",
    "    break\n"
   ]
  },
  {
   "cell_type": "code",
   "execution_count": 23,
   "metadata": {},
   "outputs": [],
   "source": [
    "Logger = namedtuple(\"Logger\", \"epoch step loss rcloss klloss\")"
   ]
  },
  {
   "cell_type": "code",
   "execution_count": 30,
   "metadata": {},
   "outputs": [
    {
     "name": "stdout",
     "output_type": "stream",
     "text": [
      "[train] epoch:{3d}  step:{step: 6d}  loss:{epoch_loss: 8.3f}  rcloss:{epoch_rcloss: 8.3f}  klloss:{epoch_klloss: 8.3f}\n"
     ]
    },
    {
     "data": {
      "image/png": "[encoded data removed]",
      "text/plain": [
       "<Figure size 1000x800 with 3 Axes>"
      ]
     },
     "metadata": {},
     "output_type": "display_data"
    }
   ],
   "source": [
    "def criterion(predict, target, mean, log_var):\n",
    "    recons_loss = nn.functional.binary_cross_entropy(predict, target, reduction=\"sum\")\n",
    "    kl_loss = -1/2 * torch.sum(1 + log_var - mean ** 2 - log_var.exp())\n",
    "    return recons_loss + kl_loss, recons_loss, kl_loss\n",
    "\n",
    "image_shape = [1, 128, 128]\n",
    "num_layer = 4\n",
    "base_channel = 4\n",
    "enc = Encoder(image_shape, num_layer, base_channel)\n",
    "dec = Decoder(enc)\n",
    "\n",
    "enc_optimizer = toptim.Adam(enc.parameters(), lr=1e-3)\n",
    "dec_optimizer = toptim.Adam(dec.parameters(), lr=1e-3)\n",
    "\n",
    "step = 1\n",
    "logger = Logger([], [], [], [], [])\n",
    "\n",
    "for epoch in range(10):\n",
    "    time_avons = time.time()\n",
    "\n",
    "    epoch_loss = 0\n",
    "    epoch_rcloss = 0\n",
    "    epoch_klloss = 0\n",
    "    \n",
    "    for image, label in loader:\n",
    "        latent, mean, log_var = enc(image)\n",
    "        recons = dec(latent)\n",
    "        loss, rcloss, klloss = criterion(recons, image, mean, log_var)\n",
    "\n",
    "        epoch_loss += loss.item() * len(image)\n",
    "        epoch_rcloss += rcloss.item() * len(image)\n",
    "        epoch_klloss += klloss.item() * len(image)\n",
    "\n",
    "        enc_optimizer.zero_grad()\n",
    "        dec_optimizer.zero_grad()\n",
    "        loss.backward()\n",
    "        enc_optimizer.step()\n",
    "        dec_optimizer.step()\n",
    "    \n",
    "    epoch_loss /= len(dataset)\n",
    "    epoch_rcloss /= len(dataset)\n",
    "    epoch_klloss /= len(dataset)\n",
    "\n",
    "    logger.epoch.append(epoch)\n",
    "    logger.step.append(step)\n",
    "    logger.loss.append(epoch_loss)\n",
    "    logger.rcloss.append(epoch_rcloss)\n",
    "    logger.klloss.append(epoch_klloss)\n",
    " \n",
    "    clear_output()\n",
    "    print(\"[train] epoch:{3d}  step:{step: 6d}  loss:{epoch_loss: 8.3f}  rcloss:{epoch_rcloss: 8.3f}  klloss:{epoch_klloss: 8.3f}\")\n",
    "    fig, axes = plt.subplots(nrows=3, sharex=True, figsize=(10, 8))\n",
    "    axes[0].plot(logger.epoch, logger.loss)\n",
    "    axes[1].plot(logger.epoch, logger.rcloss)\n",
    "    axes[2].plot(logger.epoch, logger.klloss)\n",
    "    plt.show()\n",
    "    \n"
   ]
  },
  {
   "cell_type": "code",
   "execution_count": 25,
   "metadata": {},
   "outputs": [
    {
     "data": {
      "text/plain": [
       "52"
      ]
     },
     "execution_count": 25,
     "metadata": {},
     "output_type": "execute_result"
    }
   ],
   "source": [
    "len(loader)"
   ]
  },
  {
   "cell_type": "code",
   "execution_count": 26,
   "metadata": {},
   "outputs": [
    {
     "data": {
      "text/plain": [
       "52"
      ]
     },
     "execution_count": 26,
     "metadata": {},
     "output_type": "execute_result"
    }
   ],
   "source": [
    "len(dataset)"
   ]
  },
  {
   "cell_type": "code",
   "execution_count": null,
   "metadata": {},
   "outputs": [],
   "source": []
  }
 ],
 "metadata": {
  "kernelspec": {
   "display_name": "lb-stroker",
   "language": "python",
   "name": "python3"
  },
  "language_info": {
   "codemirror_mode": {
    "name": "ipython",
    "version": 3
   },
   "file_extension": ".py",
   "mimetype": "text/x-python",
   "name": "python",
   "nbconvert_exporter": "python",
   "pygments_lexer": "ipython3",
   "version": "3.12.8"
  }
 },
 "nbformat": 4,
 "nbformat_minor": 2
}
